{
 "cells": [
  {
   "cell_type": "code",
   "execution_count": 12,
   "metadata": {},
   "outputs": [],
   "source": [
    "from pandas_datareader import data\n",
    "import matplotlib.pyplot as plt\n",
    "import pandas as pd\n",
    "import numpy as np\n",
    "from matplotlib.ticker import FuncFormatter\n",
    "import seaborn as sns\n",
    "from scipy.stats import norm\n",
    "import pprint as pp\n",
    "import yfinance as yf\n",
    "import matplotlib.pyplot as plt\n",
    "import warnings\n",
    "import seaborn as sns\n"
   ]
  },
  {
   "cell_type": "code",
   "execution_count": 13,
   "metadata": {},
   "outputs": [],
   "source": [
    "df = pd.read_csv(\"ESG Top 100 Stocks.csv\", index_col=0)\n",
    "df = df[(df['SMR Rtg'] == 'A') | (df['SMR Rtg'] == 'B') ]\n",
    "RISKY_ASSETS = df['Symbol'].tolist()\n",
    "RISKY_ASSETS.sort()\n",
    "\n",
    "START_DATE = '2017-01-01'\n",
    "END_DATE = '2021-01-31'"
   ]
  },
  {
   "cell_type": "code",
   "execution_count": 14,
   "metadata": {},
   "outputs": [
    {
     "name": "stdout",
     "output_type": "stream",
     "text": [
      "[*********************100%***********************]  93 of 93 completed\n",
      "\n",
      "4 Failed downloads:\n",
      "- FB: No data found, symbol may be delisted\n",
      "- BLL: No data found, symbol may be delisted\n",
      "- INFO: No data found, symbol may be delisted\n",
      "- XLNX: No data found, symbol may be delisted\n",
      "Downloaded 1026 rows of data.\n"
     ]
    }
   ],
   "source": [
    "prices_df = yf.download(RISKY_ASSETS, start=START_DATE, \n",
    "                        end=END_DATE, adjusted=True)\n",
    "prices_df = prices_df['Adj Close']\n",
    "print(f'Downloaded {prices_df.shape[0]} rows of data.')\n",
    "prices_df.dropna(axis=1, how='any', inplace=True)\n",
    "df =df[df['Symbol'].isin(prices_df.columns)]"
   ]
  },
  {
   "cell_type": "code",
   "execution_count": 15,
   "metadata": {},
   "outputs": [
    {
     "name": "stdout",
     "output_type": "stream",
     "text": [
      "23 seed: 0\n"
     ]
    }
   ],
   "source": [
    "for i in range(1000):\n",
    "    temp_df = df.sample(n=30, random_state=i)\n",
    "    if temp_df['Industry'].nunique() >=10:\n",
    "        break\n",
    "#count number of unique industry in temp_df\n",
    "print(temp_df['Industry'].nunique(),\"seed:\",i)"
   ]
  },
  {
   "cell_type": "code",
   "execution_count": 20,
   "metadata": {},
   "outputs": [
    {
     "name": "stdout",
     "output_type": "stream",
     "text": [
      "Unique Industry: 23\n",
      "SMR Rtg counts:\n",
      " A    20\n",
      "B    10\n",
      "Name: SMR Rtg, dtype: int64\n"
     ]
    }
   ],
   "source": [
    "# print number of unique industry, number of A and B in SMR Rtg\n",
    "print(\"Unique Industry:\",temp_df['Industry'].nunique())\n",
    "print(\"SMR Rtg counts:\\n\",temp_df['SMR Rtg'].value_counts())\n"
   ]
  },
  {
   "cell_type": "code",
   "execution_count": 17,
   "metadata": {},
   "outputs": [],
   "source": [
    "new_df = df.sample(n=30, random_state=0)\n",
    "#write new_df to csv\n",
    "new_df.to_csv('ESG 30 stocks.csv')"
   ]
  },
  {
   "cell_type": "code",
   "execution_count": 18,
   "metadata": {},
   "outputs": [],
   "source": [
    "to_excel_df = pd.read_csv(\"ESG 30 stocks.csv\", index_col=0)\n",
    "\n",
    "#export Company, Symbol, Industry, SMR Rtg columns to excel\n",
    "to_excel_df = to_excel_df[['Company', 'Symbol', 'Industry', 'SMR Rtg']]\n",
    "\n",
    "to_excel_df.sort_values(by=['Symbol'], inplace=True)\n",
    "\n",
    "to_excel_df.to_excel(\"ESG 30 stocks.xlsx\")\n"
   ]
  }
 ],
 "metadata": {
  "kernelspec": {
   "display_name": "Python 3.9.7 ('base')",
   "language": "python",
   "name": "python3"
  },
  "language_info": {
   "codemirror_mode": {
    "name": "ipython",
    "version": 3
   },
   "file_extension": ".py",
   "mimetype": "text/x-python",
   "name": "python",
   "nbconvert_exporter": "python",
   "pygments_lexer": "ipython3",
   "version": "3.9.7"
  },
  "orig_nbformat": 4,
  "vscode": {
   "interpreter": {
    "hash": "552e027ca600b6d925c639bdbd845077c44b8ae1d816988f0dd625db16bc36dc"
   }
  }
 },
 "nbformat": 4,
 "nbformat_minor": 2
}
