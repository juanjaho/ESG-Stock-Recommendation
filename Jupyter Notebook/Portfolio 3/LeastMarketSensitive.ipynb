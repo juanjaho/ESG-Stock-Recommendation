{
 "cells": [
  {
   "cell_type": "code",
   "execution_count": 43,
   "metadata": {},
   "outputs": [],
   "source": [
    "from pandas_datareader import data\n",
    "import matplotlib.pyplot as plt\n",
    "import pandas as pd\n",
    "import numpy as np\n",
    "from matplotlib.ticker import FuncFormatter\n",
    "import seaborn as sns\n",
    "from scipy.stats import norm\n",
    "import pprint as pp\n",
    "import yfinance as yf\n",
    "import matplotlib.pyplot as plt\n",
    "import warnings\n",
    "import seaborn as sns\n"
   ]
  },
  {
   "cell_type": "code",
   "execution_count": 44,
   "metadata": {},
   "outputs": [
    {
     "name": "stdout",
     "output_type": "stream",
     "text": [
      "[*********************100%***********************]  31 of 31 completed\n"
     ]
    }
   ],
   "source": [
    "df = pd.read_csv(\"ESG 30 stocks.csv\", index_col=0)\n",
    "\n",
    "TICKERS = ['^GSPC',*df['Symbol'].tolist()]\n",
    "TICKERS.sort()\n",
    "START_DATE = '2017-01-01'\n",
    "END_DATE = '2022-01-01'\n",
    "\n",
    "# data1 = data.DataReader(tickers,'yahoo', start_date, end_date)\n",
    "\n",
    "prices_df = yf.download(TICKERS, start=START_DATE, \n",
    "                        end=END_DATE, adjusted=True)\n",
    "\n",
    "adj_close_df = prices_df['Adj Close']\n"
   ]
  },
  {
   "cell_type": "code",
   "execution_count": 47,
   "metadata": {},
   "outputs": [
    {
     "data": {
      "text/plain": [
       "[('WM', 0.7257974524940385),\n",
       " ('EBAY', 0.7424150744106676),\n",
       " ('AMT', 0.784821779505609),\n",
       " ('ARE', 0.8485953237884837),\n",
       " ('HOLX', 0.8725979811116742),\n",
       " ('JBHT', 0.8884144767884817),\n",
       " ('FR', 0.9508538997420388),\n",
       " ('NKE', 0.9717448556390821),\n",
       " ('^GSPC', 0.9999999999999986),\n",
       " ('ACN', 1.053499915354018),\n",
       " ('FN', 1.0564770549102098),\n",
       " ('KIM', 1.087643668042933),\n",
       " ('FTNT', 1.1244412014585135),\n",
       " ('TEL', 1.1384606595243656),\n",
       " ('WDAY', 1.146389735483875),\n",
       " ('CRM', 1.1510733288648574),\n",
       " ('MATX', 1.1514871317095785),\n",
       " ('CDNS', 1.1795336473200362),\n",
       " ('MHK', 1.19439194766703),\n",
       " ('BCO', 1.1954080702971084),\n",
       " ('AAPL', 1.2054054279788475),\n",
       " ('SPG', 1.2349994051837696),\n",
       " ('ASIX', 1.2449296010376598),\n",
       " ('CBT', 1.3045164812041665),\n",
       " ('ASGN', 1.3270692704325937),\n",
       " ('FIVE', 1.3301819118922873),\n",
       " ('STM', 1.4696940704555435),\n",
       " ('NVDA', 1.585157131598372),\n",
       " ('AMP', 1.65663194173771),\n",
       " ('ON', 1.6703913461271684),\n",
       " ('CC', 1.7488571649379552)]"
      ]
     },
     "execution_count": 47,
     "metadata": {},
     "output_type": "execute_result"
    }
   ],
   "source": [
    "\n",
    "\n",
    "pct_change = adj_close_df.pct_change().dropna()\n",
    "benchmark_variance = pct_change['^GSPC'].var()\n",
    "B={}\n",
    "for i,t in enumerate(TICKERS):\n",
    "    covariance = pct_change.cov().loc['^GSPC',t]\n",
    "    beta = covariance / benchmark_variance\n",
    "    B[t]=beta\n",
    "sorted(B.items(), key=lambda x: x[1])"
   ]
  },
  {
   "cell_type": "code",
   "execution_count": 48,
   "metadata": {},
   "outputs": [
    {
     "data": {
      "text/plain": [
       "{'AMT': 0.784821779505609,\n",
       " 'ARE': 0.8485953237884837,\n",
       " 'EBAY': 0.7424150744106676,\n",
       " 'FR': 0.9508538997420388,\n",
       " 'HOLX': 0.8725979811116742,\n",
       " 'JBHT': 0.8884144767884817,\n",
       " 'NKE': 0.9717448556390821,\n",
       " 'WM': 0.7257974524940385,\n",
       " '^GSPC': 0.9999999999999986}"
      ]
     },
     "execution_count": 48,
     "metadata": {},
     "output_type": "execute_result"
    }
   ],
   "source": [
    "#get stock ticker where beta is less than 1 and the beta value\n",
    "beta_less_than_1 = {k: v for k, v in B.items() if v < 1}\n",
    "beta_less_than_1"
   ]
  }
 ],
 "metadata": {
  "kernelspec": {
   "display_name": "Python 3.9.7 ('base')",
   "language": "python",
   "name": "python3"
  },
  "language_info": {
   "codemirror_mode": {
    "name": "ipython",
    "version": 3
   },
   "file_extension": ".py",
   "mimetype": "text/x-python",
   "name": "python",
   "nbconvert_exporter": "python",
   "pygments_lexer": "ipython3",
   "version": "3.9.7"
  },
  "orig_nbformat": 4,
  "vscode": {
   "interpreter": {
    "hash": "552e027ca600b6d925c639bdbd845077c44b8ae1d816988f0dd625db16bc36dc"
   }
  }
 },
 "nbformat": 4,
 "nbformat_minor": 2
}
